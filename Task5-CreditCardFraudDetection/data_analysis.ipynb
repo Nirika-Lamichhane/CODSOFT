{
 "cells": [
  {
   "cell_type": "code",
   "execution_count": null,
   "id": "7c5abdb0",
   "metadata": {},
   "outputs": [],
   "source": [
    "import pandas as pd\n",
    "import matplotlib.pyplot as plt\n",
    "import seaborn as sns\n"
   ]
  },
  {
   "cell_type": "code",
   "execution_count": null,
   "id": "6264627c",
   "metadata": {},
   "outputs": [],
   "source": [
    "# loading the dataset\n",
    "df=pd.read_csv('creditcard.csv') \n",
    "\n",
    "\n",
    "print(df.info())\n",
    "print('\\n')\n",
    "\n",
    "print(df.describe())\n",
    "print('\\n')\n",
    "\n",
    "print(df.shape)\n",
    "print('\\n')\n",
    "\n",
    "print(df.isnull().sum())\n",
    "print('\\n')\n",
    "\n",
    "print(df.columns)"
   ]
  },
  {
   "cell_type": "code",
   "execution_count": null,
   "id": "931ecda1",
   "metadata": {},
   "outputs": [],
   "source": [
    "print(df['Time'])\n",
    "print(df['Amount'])\n"
   ]
  },
  {
   "cell_type": "code",
   "execution_count": null,
   "id": "07b346b1",
   "metadata": {},
   "outputs": [],
   "source": [
    "# now visualizing the data to show the imbalance of the class\n",
    "plt.figure(figsize=(7,7))\n",
    "\n",
    "# pie is the pandas built in method to create pie chart from the counts\n",
    "df['Class'].value_counts().plot.pie( \n",
    "     # this count how many times each class i.e. 0 and 1 appears in df\n",
    "    \n",
    "    autopct='%1.2f%%', # used to form the percentage lebels in pie i.e. of slice\n",
    "    \n",
    "    pctdistance =0.8,\n",
    "    # this below assigns the color to the pie chart as blue to 1st class i.e. 0 and pink to 2nd class i.e. 1\n",
    "    colors=['#66b3ff','#ff9999'], \n",
    "    labels=['Normal','Fraud'],\n",
    "\n",
    "    # this is required as default pie chart starts at 0 degre at 3 oclock so to start from top 12 oclock this is done.\n",
    "    startangle=90,\n",
    "\n",
    "    # this is used to pull out the slice from the pie to highlight it.\n",
    "    explode=(0, 0), # 0 0 means nothing is pulled out , you caan change the number and see its working\n",
    "\n",
    "    shadow=True\n",
    ")\n",
    "\n",
    "plt.title(\" Imbalance in class distrubution\")\n",
    "plt.ylabel('')\n",
    "plt.show()"
   ]
  },
  {
   "cell_type": "code",
   "execution_count": null,
   "id": "9cfc8d4d",
   "metadata": {},
   "outputs": [],
   "source": [
    "# as this dataset is all numeric so useing heatmap to see their corelation\n",
    "\n",
    "plt.figure(figsize=(20,20))\n",
    "corr= df.corr()\n",
    "sns.heatmap(corr, annot=True, fmt='.2f', cmap='coolwarm', square=True)\n",
    "plt.title('Correlation Heatmap')\n",
    "plt.show()\n",
    "\n",
    "''' \n",
    " from the plot it is seen that there is no such strong correlation between the features and the target class.\n",
    " features seemed to not be correlated with each other as well.\n",
    "'''\n"
   ]
  },
  {
   "cell_type": "code",
   "execution_count": 1,
   "id": "9c315b83",
   "metadata": {},
   "outputs": [
    {
     "ename": "NameError",
     "evalue": "name 'sns' is not defined",
     "output_type": "error",
     "traceback": [
      "\u001b[31m---------------------------------------------------------------------------\u001b[39m",
      "\u001b[31mNameError\u001b[39m                                 Traceback (most recent call last)",
      "\u001b[36mCell\u001b[39m\u001b[36m \u001b[39m\u001b[32mIn[1]\u001b[39m\u001b[32m, line 3\u001b[39m\n\u001b[32m      1\u001b[39m \u001b[38;5;66;03m# scatter plot to see the amount vs time in fraud detection\u001b[39;00m\n\u001b[32m----> \u001b[39m\u001b[32m3\u001b[39m \u001b[43msns\u001b[49m.scatterplot(x=\u001b[33m'\u001b[39m\u001b[33mTime\u001b[39m\u001b[33m'\u001b[39m, y=\u001b[33m'\u001b[39m\u001b[33mAmount\u001b[39m\u001b[33m'\u001b[39m, hue=\u001b[33m'\u001b[39m\u001b[33mClass\u001b[39m\u001b[33m'\u001b[39m,data=df, alpha=\u001b[32m0.5\u001b[39m) \u001b[38;5;66;03m# this plots the sctter of two values and colors on the basis of the class\u001b[39;00m\n\u001b[32m      4\u001b[39m plt.title(\u001b[33m'\u001b[39m\u001b[33mScatter plot of Amount vs Time\u001b[39m\u001b[33m'\u001b[39m)\n\u001b[32m      5\u001b[39m plt.xlabel(\u001b[33m'\u001b[39m\u001b[33mTime \u001b[39m\u001b[33m'\u001b[39m)\n",
      "\u001b[31mNameError\u001b[39m: name 'sns' is not defined"
     ]
    }
   ],
   "source": [
    "# scatter plot to see the amount vs time in fraud detection\n",
    "\n",
    "sns.scatterplot(x='Time', y='Amount', hue='Class',data=df, alpha=0.5) # this plots the sctter of two values and colors on the basis of the class\n",
    "plt.title('Scatter plot of Amount vs Time')\n",
    "plt.xlabel('Time ')\n",
    "plt.ylabel('Amount')\n",
    "plt.legend(title='Class', loc='upper right')\n",
    "plt.show()"
   ]
  }
 ],
 "metadata": {
  "kernelspec": {
   "display_name": "fraudenv",
   "language": "python",
   "name": "python3"
  },
  "language_info": {
   "codemirror_mode": {
    "name": "ipython",
    "version": 3
   },
   "file_extension": ".py",
   "mimetype": "text/x-python",
   "name": "python",
   "nbconvert_exporter": "python",
   "pygments_lexer": "ipython3",
   "version": "3.12.3"
  }
 },
 "nbformat": 4,
 "nbformat_minor": 5
}
