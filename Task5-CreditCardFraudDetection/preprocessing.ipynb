{
 "cells": [
  {
   "cell_type": "code",
   "execution_count": 6,
   "id": "233d8532",
   "metadata": {},
   "outputs": [],
   "source": [
    "import pandas as pd\n",
    "from sklearn.preprocessing import StandardScaler\n",
    "from sklearn.model_selection import train_test_split\n"
   ]
  },
  {
   "cell_type": "code",
   "execution_count": 3,
   "id": "fba76d96",
   "metadata": {},
   "outputs": [
    {
     "name": "stdout",
     "output_type": "stream",
     "text": [
      "This is the unscaled data set. ALl are PCA scaled except time and amount.\n"
     ]
    }
   ],
   "source": [
    "df= pd.read_csv('creditcard.csv')\n",
    "print(\"This is the unscaled data set. ALl are PCA scaled except time and amount.\")"
   ]
  },
  {
   "cell_type": "code",
   "execution_count": null,
   "id": "3b441fc7",
   "metadata": {},
   "outputs": [],
   "source": [
    "# we know there are no missing values as from eda before\n",
    "scaler=StandardScaler()\n",
    "df['Amoount']=scaler.fit_transform(df['Amount'].values.reshape(-1,1)) \n",
    "# here reshape converts the column in to the numpy array as fit transform expects a 2d array\n",
    "df['Time']=scaler.fit_transform(df[['Time']])\n",
    "# here there is no reshape as df[[]'time']] itself selects the column as the 2d array\n",
    "print(\"Now the Time and Amount columns are slao scaled.\")"
   ]
  },
  {
   "cell_type": "code",
   "execution_count": null,
   "id": "b52d755c",
   "metadata": {},
   "outputs": [
    {
     "name": "stdout",
     "output_type": "stream",
     "text": [
      "<class 'pandas.core.series.Series'>\n",
      "(227845,)\n",
      "265518    0\n",
      "180305    0\n",
      "42664     0\n",
      "198723    0\n",
      "82325     0\n",
      "Name: Class, dtype: int64\n",
      "[0 1]\n"
     ]
    }
   ],
   "source": [
    "x=df.drop(['Class'], axis=1)\n",
    "y=df['Class']\n",
    "\n",
    "x_train, x_test,y_train, y_test = train_test_split(x,y, test_size=0.2,stratify=y, random_state=42)\n",
    "'''  \n",
    "our dataset is imbalanced, we have 99% not fraud and 1% fraud \n",
    "so due to this on splitting on train and test it will lead to the disproportion so\n",
    "to make the equal proportion of fraud and non fraud in train and test sample we use stratify=y\n",
    "\n",
    "the order of output from the train_test_split is x_train, x_test, y_train, y_test as it gives features train and test and then the label train and test\n",
    "'''\n"
   ]
  },
  {
   "cell_type": "code",
   "execution_count": 14,
   "id": "4b1d0baf",
   "metadata": {},
   "outputs": [
    {
     "name": "stdout",
     "output_type": "stream",
     "text": [
      "before smot Class\n",
      "0    227451\n",
      "1       394\n",
      "Name: count, dtype: int64\n",
      "after smot Class\n",
      "0    227451\n",
      "1    227451\n",
      "Name: count, dtype: int64\n"
     ]
    }
   ],
   "source": [
    "from imblearn.over_sampling import SMOTE\n",
    "# smote is synthetic minority oversampling technique that creates new samples of minority class\n",
    "\n",
    "# initializing smote object with a fixed random state for reproducibility\n",
    "smote = SMOTE(random_state=42)\n",
    "x_train_over, y_train_over= smote.fit_resample(x_train, y_train) \n",
    "''' \n",
    " this does 2 things as fit learns the feature space of minority class i.e. fraud class\n",
    " and resample generates new samples of minority class  to balance the class and datasets\n",
    "'''\n",
    "print(\"before smot\",y_train.value_counts())\n",
    "print(\"after smot\",y_train_over.value_counts())\n"
   ]
  },
  {
   "cell_type": "code",
   "execution_count": null,
   "id": "2bfdac68",
   "metadata": {},
   "outputs": [],
   "source": []
  }
 ],
 "metadata": {
  "kernelspec": {
   "display_name": "fraudenv",
   "language": "python",
   "name": "python3"
  },
  "language_info": {
   "codemirror_mode": {
    "name": "ipython",
    "version": 3
   },
   "file_extension": ".py",
   "mimetype": "text/x-python",
   "name": "python",
   "nbconvert_exporter": "python",
   "pygments_lexer": "ipython3",
   "version": "3.12.3"
  }
 },
 "nbformat": 4,
 "nbformat_minor": 5
}
