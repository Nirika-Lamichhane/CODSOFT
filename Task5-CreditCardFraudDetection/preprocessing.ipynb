{
 "cells": [
  {
   "cell_type": "code",
   "execution_count": null,
   "id": "233d8532",
   "metadata": {},
   "outputs": [],
   "source": [
    "import pandas as pd\n",
    "from sklearn.preprocessing import StandardScaler\n",
    "from sklearn.model_selection import train_test_split\n",
    "\n",
    "from sklearn.ensemble import RandomForestClassifier\n",
    "from sklearn.linear_model import LogisticRegression\n",
    "from sklearn.metrics import classification_report, confusion_matrix\n",
    "import matplotlib.pyplot as plt\n",
    "import seaborn as sns\n"
   ]
  },
  {
   "cell_type": "code",
   "execution_count": null,
   "id": "fba76d96",
   "metadata": {},
   "outputs": [],
   "source": [
    "df= pd.read_csv('creditcard.csv')\n",
    "print(\"This is the unscaled data set. ALl are PCA scaled except time and amount.\")"
   ]
  },
  {
   "cell_type": "code",
   "execution_count": null,
   "id": "3b441fc7",
   "metadata": {},
   "outputs": [],
   "source": [
    "# we know there are no missing values as from eda before\n",
    "scaler=StandardScaler()\n",
    "df['Amount']=scaler.fit_transform(df['Amount'].values.reshape(-1,1)) \n",
    "# here reshape converts the column in to the numpy array as fit transform expects a 2d array\n",
    "df['Time']=scaler.fit_transform(df[['Time']])\n",
    "# here there is no reshape as df[[]'time']] itself selects the column as the 2d array\n",
    "print(\"Now the Time and Amount columns are slao scaled.\")"
   ]
  },
  {
   "cell_type": "code",
   "execution_count": null,
   "id": "b52d755c",
   "metadata": {},
   "outputs": [],
   "source": [
    "x=df.drop(['Class'], axis=1)\n",
    "y=df['Class']\n",
    "\n",
    "x_train, x_test,y_train, y_test = train_test_split(x,y, test_size=0.2,stratify=y, random_state=42)\n",
    "'''  \n",
    "our dataset is imbalanced, we have 99% not fraud and 1% fraud \n",
    "so due to this on splitting on train and test it will lead to the disproportion so\n",
    "to make the equal proportion of fraud and non fraud in train and test sample we use stratify=y\n",
    "\n",
    "the order of output from the train_test_split is x_train, x_test, y_train, y_test as it gives features train and test and then the label train and test\n",
    "'''\n"
   ]
  },
  {
   "cell_type": "code",
   "execution_count": null,
   "id": "4b1d0baf",
   "metadata": {},
   "outputs": [],
   "source": [
    "from imblearn.over_sampling import SMOTE\n",
    "\n",
    "# smote is synthetic minority oversampling technique that creates new samples of minority class\n",
    "\n",
    "# initializing smote object with a fixed random state for reproducibility\n",
    "smote = SMOTE(random_state=42)\n",
    "x_train_over, y_train_over= smote.fit_resample(x_train, y_train) \n",
    "''' \n",
    " this does 2 things as fit learns the feature space of minority class i.e. fraud class\n",
    " and resample generates new samples of minority class  to balance the class and datasets\n",
    "'''\n",
    "print(\"before smot\",y_train.value_counts())\n",
    "print(\"after smot\",y_train_over.value_counts())\n"
   ]
  },
  {
   "cell_type": "code",
   "execution_count": null,
   "id": "f38d58ab",
   "metadata": {},
   "outputs": [],
   "source": [
    "from imblearn.under_sampling import RandomUnderSampler\n",
    "\n",
    "# this reduces the majorityy class in training data\n",
    "rus = RandomUnderSampler(random_state=42)\n",
    "x_train_under, y_train_under = rus.fit_resample(x_train, y_train)\n",
    "\n",
    "print(\"before under sampling\", y_train.value_counts())\n",
    "print(\"after under sampling\", y_train_under.value_counts())"
   ]
  },
  {
   "cell_type": "code",
   "execution_count": null,
   "id": "33d3f862",
   "metadata": {},
   "outputs": [],
   "source": [
    "# using smote and tomek as the imabalance is very high\n",
    "from imblearn.combine import SMOTETomek\n",
    "from imblearn.combine import SMOTEENN\n",
    "\n",
    "sample=10000\n",
    "x_Small= x_train.sample(n=sample, random_state=42)\n",
    "y_Small=y_train.loc[x_Small.index]\n",
    "\n",
    "\n",
    "smT = SMOTETomek(random_state=42)\n",
    "\n",
    "# THIS IS APPLIED ONLY ON THE TRAINING DATA\n",
    "x_st, y_St=smT.fit_resample(x_Small, y_Small)\n",
    "\n",
    "print(\"before smote tomek\", y_train.value_counts())\n",
    "print(\"after smote tomek\", y_St.value_counts())\n",
    "\n",
    "smenn= SMOTEENN(random_state=42)\n",
    "x_st_enn, y_st_enn= smenn.fit_resample(x_Small, y_Small)\n",
    "print(\"before smote enn\", y_train.value_counts())\n",
    "print(\"after smote enn\", y_st_enn.value_counts())\n"
   ]
  },
  {
   "cell_type": "code",
   "execution_count": null,
   "id": "e180f044",
   "metadata": {},
   "outputs": [],
   "source": [
    "# logistic and random forest classifier for this smote and tomek\n",
    "rf = RandomForestClassifier(class_weight='balanced',random_state=42)\n",
    "rf.fit(x_st, y_St)\n",
    "\n",
    "# THRESHOLD REDUCING\n",
    "y_prob_St= rf.predict_proba(x_test)[:, 1]\n",
    "threshold=0.3\n",
    "y_pred_rf = (y_prob_St >= threshold).astype(int)\n",
    "\n",
    "# this is for smootetmoek result\n",
    "print(\"Random Forest Classifier smote tomek by reducing threshold.\\n\")\n",
    "print('\\n')\n",
    "print(classification_report(y_test, y_pred_rf))\n",
    "print(\"Confusion Matrix for Random Forest Classifier\")\n",
    "cm_rf = confusion_matrix(y_test, y_pred_rf)\n",
    "print(\"rf\",cm_rf)\n",
    "\n",
    "print('\\n Random forest for the smoteen')\n",
    "y_prob_st_enn = rf.predict_proba(x_test)[:, 1]\n",
    "y_pred_rf_enn = (y_prob_st_enn >= threshold).astype(int)\n",
    "print(\"classification report for Random Forest Classifier with SMOTEENN\")\n",
    "print(classification_report(y_test, y_pred_rf_enn))\n",
    "print(\"Confusion Matrix for Random Forest Classifier with SMOTEENN\")\n",
    "cm_rf_enn = confusion_matrix(y_test, y_pred_rf_enn)\n",
    "print(\"rf enn\", cm_rf_enn)\n",
    "\n"
   ]
  },
  {
   "cell_type": "code",
   "execution_count": null,
   "id": "737daad5",
   "metadata": {},
   "outputs": [],
   "source": [
    "# training the smot model by logisitic 1st to see the lienar relationship\n",
    "model= LogisticRegression(max_iter=1000, random_state=42)\n",
    "# this maxiter controls how many times the model iterates and finds the value\n",
    "\n",
    "model.fit(x_train_over,y_train_over)\n",
    "y_pred=model.predict(x_test)\n",
    "print(\"Logistic Regression Model\")\n",
    "\n",
    "# now evaluating the model i.e. classification model so we need classification reports for logistic regression\n",
    "print(\"Classification Report:\")\n",
    "cr=classification_report(y_test, y_pred)\n",
    "print(cr)\n",
    "\n",
    "print(\"Confusion Matrix:\")\n",
    "cm= confusion_matrix(y_test, y_pred)\n",
    "print(cm)"
   ]
  },
  {
   "cell_type": "code",
   "execution_count": null,
   "id": "e6461b51",
   "metadata": {},
   "outputs": [],
   "source": [
    "plt.figure(figsize=(10, 6))\n",
    "sns.heatmap(cm, annot=True, fmt='d', cmap='Blues', xticklabels=['Not Fraud', 'Fraud'], yticklabels=['Not Fraud', 'Fraud'])\n",
    "\n",
    "''' \n",
    "annot gives number inside the box along with the color\n",
    "fmt='d' formats the annotation as integers\n",
    "xtickables are used to show the labels in x axis and ytickables are used to show the labels in y axis so as we know which box is what\n",
    "\n",
    "'''\n",
    "plt.xlabel('Predicted')\n",
    "plt.ylabel('Actual')\n",
    "plt.title('Confusion Matrix')\n",
    "plt.show()"
   ]
  },
  {
   "cell_type": "code",
   "execution_count": null,
   "id": "9b62bb07",
   "metadata": {},
   "outputs": [],
   "source": [
    "modell=LogisticRegression(max_iter=1000, random_state=42)\n",
    "modell.fit(x_train_under, y_train_under)\n",
    "y_pred_under = modell.predict(x_test)\n",
    "print(\"Logistic Regression Model with Under Sampling\")"
   ]
  },
  {
   "cell_type": "code",
   "execution_count": null,
   "id": "60d05961",
   "metadata": {},
   "outputs": [],
   "source": [
    "\n",
    "# 4. Evaluate the model\n",
    "print(\"Confusion Matrix:\")\n",
    "cm =confusion_matrix(y_test, y_pred_under)\n",
    "print(cm)\n",
    "\n",
    "print(\"\\nClassification Report:\")\n",
    "cr=classification_report(y_test, y_pred_under)\n",
    "print(cr)"
   ]
  },
  {
   "cell_type": "code",
   "execution_count": null,
   "id": "fde26df5",
   "metadata": {},
   "outputs": [],
   "source": [
    "# now letsss dooo random forest model\n",
    "print('\\nNow Lets do Random Forest Classifier')\n",
    "rf= RandomForestClassifier(random_state=42)\n",
    "\n",
    "# this is for the under sampling\n",
    "rf.fit(x_train_under, y_train_under)\n",
    "y_pred_rf = rf.predict(x_test)\n",
    "print(\"Random Forest Classifier Model with Under Sampling\")\n",
    "\n",
    "# now evaluating the mode\n",
    "print(\"Confusion Matrix for Random Forest of undersampling:\")\n",
    "cm_rf = confusion_matrix(y_test, y_pred_rf)\n",
    "print(cm_rf)\n",
    "\n",
    "print(\"\\nClassification Report for Random Forest of undersampling:\")\n",
    "cr_rf = classification_report(y_test, y_pred_rf)\n",
    "print(cr_rf)"
   ]
  },
  {
   "cell_type": "code",
   "execution_count": null,
   "id": "016eb70b",
   "metadata": {},
   "outputs": [],
   "source": [
    "# now random forest for the smote\n",
    "rf_smote = RandomForestClassifier(random_state=42)\n",
    "rf_smote.fit(x_train_over, y_train_over)\n",
    "y_pred_rf_smote = rf_smote.predict(x_test)\n",
    "print(\"Random Forest Classifier Model with SMOTE\")\n",
    "# now evaluating the model\n",
    "print(\"Confusion Matrix for Random Forest of SMOTE:\")\n",
    "cm_rf_smote = confusion_matrix(y_test, y_pred_rf_smote)\n",
    "print(cm_rf_smote)\n",
    "print(\"\\nClassification Report for Random Forest of SMOTE:\")\n",
    "cr_rf_smote = classification_report(y_test, y_pred_rf_smote)\n",
    "print(cr_rf_smote)\n"
   ]
  }
 ],
 "metadata": {
  "kernelspec": {
   "display_name": "fraudenv",
   "language": "python",
   "name": "python3"
  },
  "language_info": {
   "codemirror_mode": {
    "name": "ipython",
    "version": 3
   },
   "file_extension": ".py",
   "mimetype": "text/x-python",
   "name": "python",
   "nbconvert_exporter": "python",
   "pygments_lexer": "ipython3",
   "version": "3.12.3"
  }
 },
 "nbformat": 4,
 "nbformat_minor": 5
}
