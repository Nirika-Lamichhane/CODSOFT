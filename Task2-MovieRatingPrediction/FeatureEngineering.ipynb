{
 "cells": [
  {
   "cell_type": "code",
   "execution_count": 2,
   "id": "72ca7e76",
   "metadata": {},
   "outputs": [],
   "source": [
    "import pandas as pd\n",
    "from sklearn.preprocessing import MultiLabelBinarizer \n",
    "# this is used as each row has different labels of the same category \n"
   ]
  },
  {
   "cell_type": "code",
   "execution_count": 3,
   "id": "a93f515f",
   "metadata": {},
   "outputs": [],
   "source": [
    "# loading the cleaned datasets and not the original one as we are using modular approach\n",
    "df=pd.read_csv('cleaned_data.csv')\n"
   ]
  },
  {
   "cell_type": "code",
   "execution_count": null,
   "id": "37997b05",
   "metadata": {},
   "outputs": [],
   "source": [
    "# feature engineering i.e. encoding categorical to numerical\n",
    "df['Genre_list']=df['Genre'].apply(lambda x: list(dict.fromkeys(i.strip() for i in x.split(','))))\n",
    "'''\n",
    "dict.fromkeys is used to remove the duplicates as in dictionary no 2 keys can be same\n",
    "and list () is used to convert this to list\n",
    "strip to remove any spaces \n",
    "this line just give me the list of the grenre across all the rows i.e. removes repetioon on the rows but not on whole datasets\n",
    "but multilabelbinarizer only makes columns of the unique list\n",
    "'''\n",
    "\n",
    "# multilabelizer for genre\n",
    "mlb_genre =MultiLabelBinarizer()\n",
    "Genre_encoded =pd.DataFrame(mlb_genre.fit_transform(df['Genre_list']), columns=mlb_genre.classes_)\n",
    "'''\n",
    "fit_transform() gives numpy arrays without any names or titles of columns so column name is given on the basis\n",
    "of the Genre_list stored at the mlb_genre.classes_\n",
    "The unique genres found in df['Genre_list']\n",
    "during fit_transform() are automatically saved into mlb_genre.classes_.\n",
    "'''\n",
    "df = pd.concat([df, Genre_encoded], axis=1)\n",
    "\n",
    "\n",
    "print(Genre_encoded)\n",
    "print(mlb_genre.classes_)"
   ]
  },
  {
   "cell_type": "code",
   "execution_count": null,
   "id": "45279908",
   "metadata": {},
   "outputs": [],
   "source": [
    "# now for the director \n",
    "top=df['Director'].value_counts().nlargest(100).index"
   ]
  }
 ],
 "metadata": {
  "kernelspec": {
   "display_name": "datavenv",
   "language": "python",
   "name": "python3"
  },
  "language_info": {
   "codemirror_mode": {
    "name": "ipython",
    "version": 3
   },
   "file_extension": ".py",
   "mimetype": "text/x-python",
   "name": "python",
   "nbconvert_exporter": "python",
   "pygments_lexer": "ipython3",
   "version": "3.12.3"
  }
 },
 "nbformat": 4,
 "nbformat_minor": 5
}
