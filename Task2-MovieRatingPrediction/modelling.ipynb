{
 "cells": [
  {
   "cell_type": "code",
   "execution_count": 1,
   "id": "b5f0b35e",
   "metadata": {},
   "outputs": [],
   "source": [
    "import pandas as pd\n",
    "import numpy as np\n",
    "import matplotlib.pyplot as plt\n",
    "import seaborn as sns\n"
   ]
  },
  {
   "cell_type": "code",
   "execution_count": 2,
   "id": "1fd3441d",
   "metadata": {},
   "outputs": [
    {
     "name": "stdout",
     "output_type": "stream",
     "text": [
      "Index(['Name', 'Year', 'Duration', 'Genre', 'Rating', 'Votes', 'Director',\n",
      "       'Actor 1', 'Actor 2', 'Actor 3',\n",
      "       ...\n",
      "       'actors_Poonam Dhillon', 'actors_Irrfan Khan', 'actors_Aruna Irani',\n",
      "       'actors_Priyanka Chopra Jonas', 'actors_Abhishek Bachchan',\n",
      "       'actors_Nanda', 'actors_Kareena Kapoor', 'actors_Saira Banu',\n",
      "       'actors_Rakesh Roshan', 'actors_Urmila Matondkar'],\n",
      "      dtype='object', length=237)\n"
     ]
    }
   ],
   "source": [
    "df =pd.read_csv('cleaned_encoded.csv')\n",
    "print(df.columns)"
   ]
  },
  {
   "cell_type": "code",
   "execution_count": 3,
   "id": "006dd020",
   "metadata": {},
   "outputs": [
    {
     "name": "stdout",
     "output_type": "stream",
     "text": [
      "(7919, 229)\n"
     ]
    }
   ],
   "source": [
    "# getting the  target and features for modelling\n",
    "\n",
    "#dropping the unwanted\n",
    "df=df.drop(['Name','Year','Duration','Votes','Genre','Actor 1','Actor 2','Actor 3'],axis=1)\n",
    "\n",
    "# separate x and y\n",
    "x=df.drop('Rating',axis=1) # features\n",
    "y=df['Rating'] # target\n",
    "\n",
    "\n",
    "print(df.shape)"
   ]
  },
  {
   "cell_type": "code",
   "execution_count": 4,
   "id": "972fbdc0",
   "metadata": {},
   "outputs": [
    {
     "name": "stdout",
     "output_type": "stream",
     "text": [
      "Train shape: (5543, 228)\n",
      "Test shape: (2376, 228)\n"
     ]
    }
   ],
   "source": [
    "# now trainng and testing split\n",
    "from sklearn.model_selection import train_test_split\n",
    "x_train, x_test, y_train, y_test= train_test_split(x,y,test_size=0.3, random_state=42)\n",
    "print(f\"Train shape: {x_train.shape}\")\n",
    "print(f\"Test shape: {x_test.shape}\")"
   ]
  },
  {
   "cell_type": "code",
   "execution_count": null,
   "id": "28bbe547",
   "metadata": {},
   "outputs": [],
   "source": [
    "# visualize this wrt rating\n",
    "plt.figure(figsize=(10,4))\n",
    "\n"
   ]
  }
 ],
 "metadata": {
  "kernelspec": {
   "display_name": "datavenv",
   "language": "python",
   "name": "python3"
  },
  "language_info": {
   "codemirror_mode": {
    "name": "ipython",
    "version": 3
   },
   "file_extension": ".py",
   "mimetype": "text/x-python",
   "name": "python",
   "nbconvert_exporter": "python",
   "pygments_lexer": "ipython3",
   "version": "3.12.3"
  }
 },
 "nbformat": 4,
 "nbformat_minor": 5
}
