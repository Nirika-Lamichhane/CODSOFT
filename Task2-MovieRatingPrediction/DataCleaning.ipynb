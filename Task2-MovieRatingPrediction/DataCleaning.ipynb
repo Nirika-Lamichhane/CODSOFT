{
 "cells": [
  {
   "cell_type": "code",
   "execution_count": 2,
   "id": "976dd37c",
   "metadata": {},
   "outputs": [],
   "source": [
    "import pandas as pd\n",
    "import seaborn as sns\n",
    "import matplotlib.pyplot as plt\n"
   ]
  },
  {
   "cell_type": "code",
   "execution_count": null,
   "id": "04fedffe",
   "metadata": {},
   "outputs": [],
   "source": [
    "# loading datas\n",
    "df = pd.read_csv('MovieDatas.csv', encoding='ISO-8859-1')  # using ISO-8859-1 encoding to handle special characters\n",
    "print(df.columns)\n",
    "# initial data check\n",
    "print(df.head()) # this gives the 1st 5 rows of dataframe df\n",
    "print(df.info())"
   ]
  },
  {
   "cell_type": "code",
   "execution_count": 9,
   "id": "444b551a",
   "metadata": {},
   "outputs": [
    {
     "name": "stdout",
     "output_type": "stream",
     "text": [
      "Rating      0\n",
      "Director    0\n",
      "Actor 1     0\n",
      "Actor 2     0\n",
      "Actor 3     0\n",
      "Genre       0\n",
      "dtype: int64\n"
     ]
    }
   ],
   "source": [
    "# data cleaning \n",
    "'''\n",
    "rating is out target variable so we have to check if there is null and is there is null then we have to drop that\n",
    "and we cannot add some random values as mean mode etc as this is to be predicted by ml logics\n",
    "df.dropna() drops all rows with any nan values i.e. remove any students who missed test in any subject\n",
    "but df.dropna(subset=['rating']) drops only those rows which is specified in subset ignoring the missing scores in other subjects\n",
    "\n",
    "'''\n",
    "df = df.dropna(subset=['Rating'])  \n",
    "\n",
    "'''\n",
    "director, actors and genre are the categorial columns we need to see and work upon to predict rating so we can fill the null with unkowns.\n",
    "'''\n",
    "df['Director'] = df['Director'].fillna('Unknown')\n",
    "df['Actor 1'] = df['Actor 1'].fillna('Unknown')\n",
    "df['Actor 2']=df['Actor 2'].fillna('Unkown')\n",
    "df['Actor 3']=df['Actor 3'].fillna('Unkown')\n",
    "df['Genre'] = df['Genre'].fillna('Unknown')\n",
    "\n",
    "# after adding and dropping the null values in both the features and target we need to confirm if there is missing in any columns or not\n",
    "print(df[['Rating', 'Director', 'Actor 1', 'Actor 2', 'Actor 3','Genre']].isnull().sum())\n",
    "\n",
    "df.to_csv('cleaned_data.csv', index=False)\n"
   ]
  }
 ],
 "metadata": {
  "kernelspec": {
   "display_name": "datavenv",
   "language": "python",
   "name": "python3"
  },
  "language_info": {
   "codemirror_mode": {
    "name": "ipython",
    "version": 3
   },
   "file_extension": ".py",
   "mimetype": "text/x-python",
   "name": "python",
   "nbconvert_exporter": "python",
   "pygments_lexer": "ipython3",
   "version": "3.12.3"
  }
 },
 "nbformat": 4,
 "nbformat_minor": 5
}
