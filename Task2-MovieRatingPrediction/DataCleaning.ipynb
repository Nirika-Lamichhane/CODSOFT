{
 "cells": [
  {
   "cell_type": "code",
   "execution_count": 4,
   "id": "976dd37c",
   "metadata": {},
   "outputs": [],
   "source": [
    "import pandas as pd\n",
    "import seaborn as sns\n",
    "import matplotlib.pyplot as plt\n"
   ]
  },
  {
   "cell_type": "code",
   "execution_count": null,
   "id": "04fedffe",
   "metadata": {},
   "outputs": [],
   "source": [
    "# loading datas\n",
    "df = pd.read_csv(r\"C:\\Users\\ACER\\OneDrive\\Desktop\\Task2\\Task2-MovieRatingPrediction\\MovieDatas.csv\", encoding='ISO-8859-1')\n",
    "\n",
    "# initial data check\n",
    "print(df.head()) # this gives the 1st 5 rows of dataframe df\n",
    "print(df.info())"
   ]
  },
  {
   "cell_type": "code",
   "execution_count": null,
   "id": "444b551a",
   "metadata": {},
   "outputs": [
    {
     "name": "stdout",
     "output_type": "stream",
     "text": [
      "c:\\Users\\ACER\\OneDrive\\Desktop\\Task2\\Task2-MovieRatingPrediction\n"
     ]
    }
   ],
   "source": [
    "# data cleaning \n",
    "'''\n",
    "rating is out target variable so we have to check if there is null and is there is null then we have to drop that\n",
    "and we cannot add some random values as mean mode etc as this is to be predicted by ml logics\n",
    "df.dropna() drops all rows with any nan values i.e. remove any students who missed test in any subject\n",
    "but df.dropna(subset=['rating']) drops only those rows which is specified in subset ignoring the missing scores in other subjects\n",
    "\n",
    "'''\n",
    "df = df.dropna(subset=['rating'])  \n",
    "\n",
    "'''\n",
    "director, actors and genre are the categorial columns we need to see and work upon to predict rating so we can fill the null with unkowns.\n",
    "'''\n"
   ]
  }
 ],
 "metadata": {
  "kernelspec": {
   "display_name": "datavenv",
   "language": "python",
   "name": "python3"
  },
  "language_info": {
   "codemirror_mode": {
    "name": "ipython",
    "version": 3
   },
   "file_extension": ".py",
   "mimetype": "text/x-python",
   "name": "python",
   "nbconvert_exporter": "python",
   "pygments_lexer": "ipython3",
   "version": "3.12.3"
  }
 },
 "nbformat": 4,
 "nbformat_minor": 5
}
