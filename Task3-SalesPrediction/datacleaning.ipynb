{
 "cells": [
  {
   "cell_type": "code",
   "execution_count": null,
   "id": "72025264",
   "metadata": {},
   "outputs": [],
   "source": [
    "# handling outliers and the skewness\n"
   ]
  }
 ],
 "metadata": {
  "language_info": {
   "name": "python"
  }
 },
 "nbformat": 4,
 "nbformat_minor": 5
}
