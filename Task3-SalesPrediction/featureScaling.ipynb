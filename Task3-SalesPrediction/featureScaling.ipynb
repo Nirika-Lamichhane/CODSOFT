{
 "cells": [
  {
   "cell_type": "code",
   "execution_count": null,
   "id": "ff6be332",
   "metadata": {},
   "outputs": [],
   "source": [
    "# this involves standardization and normalization and is important as some models are sensitive to the feature scales\n",
    "\n",
    "'''\n",
    "for the small datasets the numbers with very high fluctuations can distort the model so better to do scaling\n",
    "standard is used when the datas are normally distibuted and bell shaped\n",
    "minmax is rare and for some specific requirements only\n",
    "'''\n",
    "import pandas as pd\n",
    "from sklearn.preprocessing import StandardScaler ,MinMaxScaler\n",
    "\n"
   ]
  },
  {
   "cell_type": "code",
   "execution_count": null,
   "id": "908c5092",
   "metadata": {},
   "outputs": [],
   "source": [
    "df= pd.read_csv(\"cleaned_data.csv\")\n",
    "\n",
    "# separate target and features as scaling is done in features\n",
    "x=df['Newspaper','Radio','TV']\n",
    "y=df['Sales']\n"
   ]
  }
 ],
 "metadata": {
  "kernelspec": {
   "display_name": "venv",
   "language": "python",
   "name": "python3"
  },
  "language_info": {
   "name": "python",
   "version": "3.12.3"
  }
 },
 "nbformat": 4,
 "nbformat_minor": 5
}
